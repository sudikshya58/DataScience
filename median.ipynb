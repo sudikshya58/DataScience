{
 "cells": [
  {
   "cell_type": "code",
   "execution_count": 28,
   "id": "b426885b",
   "metadata": {},
   "outputs": [],
   "source": [
    "import numpy as np\n",
    "import pandas as pd\n",
    "import seaborn as sns\n",
    "import matplotlib.pyplot as plt\n",
    "\n"
   ]
  },
  {
   "cell_type": "code",
   "execution_count": 29,
   "id": "4513282a",
   "metadata": {},
   "outputs": [
    {
     "data": {
      "text/html": [
       "<div>\n",
       "<style scoped>\n",
       "    .dataframe tbody tr th:only-of-type {\n",
       "        vertical-align: middle;\n",
       "    }\n",
       "\n",
       "    .dataframe tbody tr th {\n",
       "        vertical-align: top;\n",
       "    }\n",
       "\n",
       "    .dataframe thead th {\n",
       "        text-align: right;\n",
       "    }\n",
       "</style>\n",
       "<table border=\"1\" class=\"dataframe\">\n",
       "  <thead>\n",
       "    <tr style=\"text-align: right;\">\n",
       "      <th></th>\n",
       "      <th>Loan_ID</th>\n",
       "      <th>Gender</th>\n",
       "      <th>Married</th>\n",
       "      <th>Dependents</th>\n",
       "      <th>Education</th>\n",
       "      <th>Self_Employed</th>\n",
       "      <th>ApplicantIncome</th>\n",
       "      <th>LoanAmount</th>\n",
       "      <th>Loan_Amount_Term</th>\n",
       "      <th>Credit_History</th>\n",
       "      <th>Property_Area</th>\n",
       "      <th>Loan_Status</th>\n",
       "      <th>CoapplicantIncome</th>\n",
       "    </tr>\n",
       "  </thead>\n",
       "  <tbody>\n",
       "    <tr>\n",
       "      <th>0</th>\n",
       "      <td>LP001003</td>\n",
       "      <td>Male</td>\n",
       "      <td>Yes</td>\n",
       "      <td>1</td>\n",
       "      <td>Graduate</td>\n",
       "      <td>No</td>\n",
       "      <td>4583</td>\n",
       "      <td>128</td>\n",
       "      <td>2</td>\n",
       "      <td>1.0</td>\n",
       "      <td>Rural</td>\n",
       "      <td>N</td>\n",
       "      <td>1508.0</td>\n",
       "    </tr>\n",
       "    <tr>\n",
       "      <th>1</th>\n",
       "      <td>LP001004</td>\n",
       "      <td>Male</td>\n",
       "      <td>Yes</td>\n",
       "      <td>0</td>\n",
       "      <td>Graduate</td>\n",
       "      <td>Yes</td>\n",
       "      <td>3000</td>\n",
       "      <td>66</td>\n",
       "      <td>2</td>\n",
       "      <td>1.0</td>\n",
       "      <td>Urban</td>\n",
       "      <td>Y</td>\n",
       "      <td>0.0</td>\n",
       "    </tr>\n",
       "    <tr>\n",
       "      <th>2</th>\n",
       "      <td>LP001005</td>\n",
       "      <td>Male</td>\n",
       "      <td>Yes</td>\n",
       "      <td>0</td>\n",
       "      <td>Not Graduate</td>\n",
       "      <td>No</td>\n",
       "      <td>2583</td>\n",
       "      <td>120</td>\n",
       "      <td>2</td>\n",
       "      <td>1.0</td>\n",
       "      <td>Urban</td>\n",
       "      <td>Y</td>\n",
       "      <td>2358.0</td>\n",
       "    </tr>\n",
       "    <tr>\n",
       "      <th>3</th>\n",
       "      <td>LP001006</td>\n",
       "      <td>Male</td>\n",
       "      <td>No</td>\n",
       "      <td>0</td>\n",
       "      <td>Graduate</td>\n",
       "      <td>No</td>\n",
       "      <td>6000</td>\n",
       "      <td>141</td>\n",
       "      <td>2</td>\n",
       "      <td>1.0</td>\n",
       "      <td>Urban</td>\n",
       "      <td>Y</td>\n",
       "      <td>0.0</td>\n",
       "    </tr>\n",
       "    <tr>\n",
       "      <th>4</th>\n",
       "      <td>LP001007</td>\n",
       "      <td>Male</td>\n",
       "      <td>Yes</td>\n",
       "      <td>0</td>\n",
       "      <td>Not Graduate</td>\n",
       "      <td>No</td>\n",
       "      <td>2333</td>\n",
       "      <td>95</td>\n",
       "      <td>2</td>\n",
       "      <td>1.0</td>\n",
       "      <td>Urban</td>\n",
       "      <td>Y</td>\n",
       "      <td>1516.0</td>\n",
       "    </tr>\n",
       "  </tbody>\n",
       "</table>\n",
       "</div>"
      ],
      "text/plain": [
       "    Loan_ID Gender Married Dependents     Education Self_Employed  \\\n",
       "0  LP001003   Male     Yes          1      Graduate            No   \n",
       "1  LP001004   Male     Yes          0      Graduate           Yes   \n",
       "2  LP001005   Male     Yes          0  Not Graduate            No   \n",
       "3  LP001006   Male      No          0      Graduate            No   \n",
       "4  LP001007   Male     Yes          0  Not Graduate            No   \n",
       "\n",
       "   ApplicantIncome  LoanAmount  Loan_Amount_Term  Credit_History  \\\n",
       "0             4583         128                 2             1.0   \n",
       "1             3000          66                 2             1.0   \n",
       "2             2583         120                 2             1.0   \n",
       "3             6000         141                 2             1.0   \n",
       "4             2333          95                 2             1.0   \n",
       "\n",
       "  Property_Area Loan_Status  CoapplicantIncome  \n",
       "0         Rural           N             1508.0  \n",
       "1         Urban           Y                0.0  \n",
       "2         Urban           Y             2358.0  \n",
       "3         Urban           Y                0.0  \n",
       "4         Urban           Y             1516.0  "
      ]
     },
     "execution_count": 29,
     "metadata": {},
     "output_type": "execute_result"
    }
   ],
   "source": [
    "dataset=pd.read_csv(\"loan_data.csv\")\n",
    "dataset.head(5)"
   ]
  },
  {
   "cell_type": "code",
   "execution_count": 30,
   "id": "b3feb85a",
   "metadata": {},
   "outputs": [
    {
     "data": {
      "text/plain": [
       "790.0"
      ]
     },
     "execution_count": 30,
     "metadata": {},
     "output_type": "execute_result"
    }
   ],
   "source": [
    "np.median(dataset[\"LoanAmount\"])"
   ]
  },
  {
   "cell_type": "code",
   "execution_count": 31,
   "id": "0dd9a9b8",
   "metadata": {},
   "outputs": [
    {
     "data": {
      "text/plain": [
       "<bound method DataFrame.sum of       Loan_ID  Gender  Married  Dependents  Education  Self_Employed  \\\n",
       "0       False   False    False       False      False          False   \n",
       "1       False   False    False       False      False          False   \n",
       "2       False   False    False       False      False          False   \n",
       "3       False   False    False       False      False          False   \n",
       "4       False   False    False       False      False          False   \n",
       "...       ...     ...      ...         ...        ...            ...   \n",
       "1915    False   False    False       False      False          False   \n",
       "1916    False   False    False       False      False          False   \n",
       "1917    False   False    False       False      False          False   \n",
       "1918    False   False    False       False      False          False   \n",
       "1919    False   False    False       False      False          False   \n",
       "\n",
       "      ApplicantIncome  LoanAmount  Loan_Amount_Term  Credit_History  \\\n",
       "0               False       False             False           False   \n",
       "1               False       False             False           False   \n",
       "2               False       False             False           False   \n",
       "3               False       False             False           False   \n",
       "4               False       False             False           False   \n",
       "...               ...         ...               ...             ...   \n",
       "1915            False       False             False           False   \n",
       "1916            False       False             False           False   \n",
       "1917            False       False             False           False   \n",
       "1918            False       False             False           False   \n",
       "1919            False       False             False           False   \n",
       "\n",
       "      Property_Area  Loan_Status  CoapplicantIncome  \n",
       "0             False        False              False  \n",
       "1             False        False              False  \n",
       "2             False        False              False  \n",
       "3             False        False              False  \n",
       "4             False        False              False  \n",
       "...             ...          ...                ...  \n",
       "1915          False        False              False  \n",
       "1916          False        False              False  \n",
       "1917          False        False              False  \n",
       "1918          False        False              False  \n",
       "1919          False        False              False  \n",
       "\n",
       "[1920 rows x 13 columns]>"
      ]
     },
     "execution_count": 31,
     "metadata": {},
     "output_type": "execute_result"
    }
   ],
   "source": [
    "dataset.isnull().sum"
   ]
  },
  {
   "cell_type": "code",
   "execution_count": 32,
   "id": "71eeef8e",
   "metadata": {},
   "outputs": [],
   "source": [
    "dataset[\"LoanAmount\"].fillna(dataset[\"LoanAmount\"].mean(),inplace=True)"
   ]
  },
  {
   "cell_type": "code",
   "execution_count": 33,
   "id": "512b116f",
   "metadata": {},
   "outputs": [
    {
     "data": {
      "text/plain": [
       "790.0"
      ]
     },
     "execution_count": 33,
     "metadata": {},
     "output_type": "execute_result"
    }
   ],
   "source": [
    "np.median(dataset[\"LoanAmount\"])"
   ]
  },
  {
   "cell_type": "code",
   "execution_count": 34,
   "id": "26b51120",
   "metadata": {},
   "outputs": [],
   "source": [
    "mn=np.mean(dataset[\"LoanAmount\"])"
   ]
  },
  {
   "cell_type": "code",
   "execution_count": 39,
   "id": "69835e54",
   "metadata": {},
   "outputs": [
    {
     "data": {
      "text/plain": [
       "[<matplotlib.lines.Line2D at 0x15792840da0>]"
      ]
     },
     "execution_count": 39,
     "metadata": {},
     "output_type": "execute_result"
    },
    {
     "data": {
      "image/png": "[encoded data removed]",
      "text/plain": [
       "<Figure size 640x480 with 1 Axes>"
      ]
     },
     "metadata": {},
     "output_type": "display_data"
    }
   ],
   "source": [
    "\n",
    "sns.histplot(x=\"LoanAmount\",data=dataset,bins=[i for i in range(0,300000,40000)])\n",
    "plt.plot([mn for i in range(0,8000)],[i for i in range(0,8000)],c=\"red\")"
   ]
  },
  {
   "cell_type": "code",
   "execution_count": 40,
   "id": "fad58018",
   "metadata": {},
   "outputs": [
    {
     "data": {
      "text/plain": [
       "0    4280\n",
       "Name: LoanAmount, dtype: int64"
      ]
     },
     "execution_count": 40,
     "metadata": {},
     "output_type": "execute_result"
    }
   ],
   "source": [
    "dataset[\"LoanAmount\"].mode()"
   ]
  },
  {
   "cell_type": "code",
   "execution_count": 42,
   "id": "a200a89f",
   "metadata": {},
   "outputs": [
    {
     "data": {
      "text/plain": [
       "pandas.core.series.Series"
      ]
     },
     "execution_count": 42,
     "metadata": {},
     "output_type": "execute_result"
    }
   ],
   "source": [
    "type(dataset[\"LoanAmount\"].mode())"
   ]
  },
  {
   "cell_type": "code",
   "execution_count": 44,
   "id": "d176ecef",
   "metadata": {},
   "outputs": [
    {
     "data": {
      "text/plain": [
       "LoanAmount\n",
       "4280    220\n",
       "790     173\n",
       "4730    141\n",
       "395     111\n",
       "3080    108\n",
       "       ... \n",
       "56        1\n",
       "62        1\n",
       "53        1\n",
       "65        1\n",
       "78        1\n",
       "Name: count, Length: 118, dtype: int64"
      ]
     },
     "execution_count": 44,
     "metadata": {},
     "output_type": "execute_result"
    }
   ],
   "source": [
    "dataset[\"LoanAmount\"].value_counts()"
   ]
  }
 ],
 "metadata": {
  "kernelspec": {
   "display_name": "Python 3",
   "language": "python",
   "name": "python3"
  },
  "language_info": {
   "codemirror_mode": {
    "name": "ipython",
    "version": 3
   },
   "file_extension": ".py",
   "mimetype": "text/x-python",
   "name": "python",
   "nbconvert_exporter": "python",
   "pygments_lexer": "ipython3",
   "version": "3.12.0"
  }
 },
 "nbformat": 4,
 "nbformat_minor": 5
}
